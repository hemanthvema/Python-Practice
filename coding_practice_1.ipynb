{
 "cells": [
  {
   "cell_type": "code",
   "execution_count": 1,
   "id": "2fee0d4e",
   "metadata": {},
   "outputs": [],
   "source": [
    "# import datetime\n",
    "# exam_st_date = (11, 12, 2014)\n",
    "# print('the exam will start on %i/%i/%i'%exam_st_date)\n",
    "\n",
    "#interger problem\n",
    "# def integer(n):\n",
    "#   value =n+n*n+n*n*n\n",
    "#   print('the return value is',value)\n",
    "   \n",
    "  \n",
    "# integer(15)\n",
    "\n",
    "# def integer(a):\n",
    "#   n1 = int( \"%s\" % a )\n",
    "#   n2 = int( \"%s%s\" % (a,a) )\n",
    "#   n3 = int( \"%s%s%s\" % (a,a,a) )\n",
    "#   d = n1+n2+n3\n",
    "  \n",
    "#   print(d)\n",
    "\n",
    "# integer(100)\n",
    "\n",
    "#Problem 11\n",
    "#print(abs.__doc__)\n",
    "\n",
    "# #Problem 12\n",
    "# import calendar\n",
    "# y = int(input('enter the year'))\n",
    "# m = int(input('entr the month'))\n",
    "\n",
    "# print(calendar.month(y,m))\n",
    "\n",
    "#Problem 14\n",
    "\n",
    "# from datetime import date\n",
    "# date1 = int(input('enter the year'))\n",
    "# date2 = int(input('enter the month'))\n",
    "# date3 = int(input('enter the day'))\n",
    "\n",
    "# date4 = int(input('enter the year'))\n",
    "# date5 = int(input('enter the month'))\n",
    "# date6 = int(input('enter the day'))\n",
    "\n",
    "# tupe1 = date(date1, date2, date3)\n",
    "# tupe2 = date(date4, date5, date6)\n",
    "# difference = tupe1-tupe2\n",
    "# print(difference.days)\n",
    "\n",
    "#problem 15\n",
    "# import math as mt\n",
    "# def volume_sphere(r):\n",
    "#   volume = (4/3)*mt.pi*(r**3)\n",
    "#   print(volume)\n",
    "  \n",
    "# volume_sphere(5) \n",
    "\n",
    "# #problem 16\n",
    "# number = int(input('entter the number'))\n",
    "# if number<17:\n",
    "#   print(abs(number-17))\n",
    "# elif number >17:\n",
    "#   print(abs(2*(number-17)))\n",
    "# else:\n",
    "#   print('its an imaginary number')"
   ]
  },
  {
   "cell_type": "code",
   "execution_count": 2,
   "id": "c7c4da8b",
   "metadata": {},
   "outputs": [
    {
     "name": "stdout",
     "output_type": "stream",
     "text": [
      "True\n",
      "True\n",
      "False\n",
      "False\n"
     ]
    }
   ],
   "source": [
    "# 17. Write a Python program to test whether a number is within 100 of 1000 or 2000.\n",
    "def near_thousand(n):\n",
    "      return ((abs(1000 - n) <= 100) or (abs(2000 - n) <= 100))\n",
    "print(near_thousand(1000))\n",
    "print(near_thousand(900))\n",
    "print(near_thousand(800))   \n",
    "print(near_thousand(2200))"
   ]
  },
  {
   "cell_type": "code",
   "execution_count": 4,
   "id": "6f6dafee",
   "metadata": {},
   "outputs": [
    {
     "name": "stdout",
     "output_type": "stream",
     "text": [
      "enter the value10\n",
      "enter the value20\n",
      "enter the value30\n",
      "60\n"
     ]
    }
   ],
   "source": [
    "#18. Write a Python program to calculate the sum of three given numbers, \n",
    "#if the values are equal then return three times of their sum. \n",
    "num1 = int(input('enter the value'))\n",
    "num2 = int(input('enter the value'))\n",
    "num3 = int(input('enter the value'))\n",
    "if num1==num2==num3:\n",
    "    print('punishment value is :', 3*(num1+num2+num3))\n",
    "else:\n",
    "    print(num1+num2+num3)"
   ]
  },
  {
   "cell_type": "code",
   "execution_count": 12,
   "id": "306fc51c",
   "metadata": {},
   "outputs": [
    {
     "name": "stdout",
     "output_type": "stream",
     "text": [
      "enter the stringIS\n",
      "IS\n"
     ]
    }
   ],
   "source": [
    "#19. Write a Python program to get a new string from a given string where \"Is\" has been added to the front.\n",
    "#If the given string already begins with \"Is\" then return the string unchanged\n",
    "string = input(str('enter the string'))\n",
    "if len(string)==2 and string=='IS':\n",
    "    print(string)\n",
    "else:\n",
    "    print('IS','',string)"
   ]
  },
  {
   "cell_type": "code",
   "execution_count": 19,
   "id": "54ea1888",
   "metadata": {},
   "outputs": [
    {
     "name": "stdout",
     "output_type": "stream",
     "text": [
      "HemanthHemanthHemanth\n"
     ]
    }
   ],
   "source": [
    "#20. Write a Python program to get a string which is n (non-negative integer) copies of a given string\n",
    "\n",
    "def get_str(str,n):\n",
    "    \n",
    "    return n*str\n",
    "print(get_str('Hemanth',3 ))"
   ]
  },
  {
   "cell_type": "code",
   "execution_count": 27,
   "id": "a435ab98",
   "metadata": {},
   "outputs": [
    {
     "name": "stdout",
     "output_type": "stream",
     "text": [
      "Given number is even\n"
     ]
    }
   ],
   "source": [
    "#21. Write a Python program to find whether a given number (accept from the user)\n",
    "#is even or odd, print out an appropriate message to the user.\n",
    "def give_num(numberr):\n",
    "    if numberr%2==1:\n",
    "        return 'Given number is odd'\n",
    "    return 'Given number is even'\n",
    "    \n",
    "print(give_num(4))\n",
    "    "
   ]
  },
  {
   "cell_type": "code",
   "execution_count": 9,
   "id": "ffbca23c",
   "metadata": {},
   "outputs": [
    {
     "name": "stdout",
     "output_type": "stream",
     "text": [
      "count is 17\n"
     ]
    }
   ],
   "source": [
    "#22. Write a Python program to count the number 4 in a given list.\n",
    "def lissst(liste):\n",
    "    count =0\n",
    "    for i in liste:\n",
    "        if i ==4:\n",
    "            count = count+1\n",
    "   \n",
    "    return count \n",
    "print('count is', lissst([1,2,3,4,4444444444444444,4,4,4,4,4,4,4,4,4,4,4,4,4,4,4,4,45,6,8]))            \n",
    "        \n",
    "        \n",
    "        \n",
    "        \n",
    "        "
   ]
  },
  {
   "cell_type": "code",
   "execution_count": 31,
   "id": "9414fbd3",
   "metadata": {},
   "outputs": [
    {
     "name": "stdout",
     "output_type": "stream",
     "text": [
      "letter is vowel\n"
     ]
    }
   ],
   "source": [
    "#24. Write a Python program to test whether a passed letter is a vowel or not\n",
    "vowel_letters =['a', 'e', 'i', 'o' ,'u']\n",
    "def give_str(str):\n",
    "    for i in vowel_letters:\n",
    "        if str ==i:\n",
    "            print('letter is vowel')\n",
    "give_str('a')            \n",
    "            \n",
    "        \n",
    "    \n",
    "    \n"
   ]
  },
  {
   "cell_type": "code",
   "execution_count": 32,
   "id": "32300bbb",
   "metadata": {},
   "outputs": [
    {
     "name": "stdout",
     "output_type": "stream",
     "text": [
      "False\n",
      "True\n"
     ]
    }
   ],
   "source": [
    "#24. Write a Python program to test whether a passed letter is a vowel or not\n",
    "def is_vowel(char):\n",
    "    all_vowels = 'aeiou'\n",
    "    return char in all_vowels\n",
    "print(is_vowel('c'))\n",
    "print(is_vowel('e'))"
   ]
  },
  {
   "cell_type": "code",
   "execution_count": 38,
   "id": "06021c56",
   "metadata": {},
   "outputs": [
    {
     "name": "stdout",
     "output_type": "stream",
     "text": [
      "HHHHHHHHHH\n"
     ]
    }
   ],
   "source": [
    "#23. Write a Python program to get the n (non-negative integer) copies of the first 2 characters of a given string. \n",
    "#Return the n copies of the whole string if the length is less than 2\n",
    "def get_charact(str, n):\n",
    "    if len(str)>=2:\n",
    "        cool = str[:2]*n\n",
    "        print(cool)\n",
    "    elif len(str)<2:\n",
    "        cool1 = str*n\n",
    "        print(cool1)\n",
    "    else:\n",
    "        print('No string is given')\n",
    "get_charact('H', 10)"
   ]
  },
  {
   "cell_type": "code",
   "execution_count": 41,
   "id": "1ec83256",
   "metadata": {},
   "outputs": [
    {
     "name": "stdout",
     "output_type": "stream",
     "text": [
      "enter any value8\n",
      "True\n"
     ]
    }
   ],
   "source": [
    "#25. Write a Python program to check whether a specified value is contained in a group of values\n",
    "values_list = [1,5,8,3]\n",
    "a =int(input('enter any value'))\n",
    "if a in values_list:\n",
    "    print(True)\n",
    "else:\n",
    "    print(False)"
   ]
  },
  {
   "cell_type": "code",
   "execution_count": 14,
   "id": "0294a950",
   "metadata": {},
   "outputs": [
    {
     "name": "stdout",
     "output_type": "stream",
     "text": [
      "@*@@*@@*@@*@@*@\n",
      "@*@@*@@*@@*@\n",
      "@*@@*@@*@\n",
      "@*@@*@\n"
     ]
    }
   ],
   "source": [
    "#26. Write a Python program to create a histogram from a given list of integers\n",
    "\n",
    "def list_integers(inte, symbol):\n",
    "    for i in inte:\n",
    "        print(symbol*i)\n",
    "        \n",
    "list_integers([5,4,3,2], '@*@' )\n",
    "    \n"
   ]
  },
  {
   "cell_type": "code",
   "execution_count": 13,
   "id": "9607e8ae",
   "metadata": {},
   "outputs": [
    {
     "name": "stdout",
     "output_type": "stream",
     "text": [
      "*\n",
      "**\n",
      "***\n",
      "****\n"
     ]
    }
   ],
   "source": [
    "#26 - above problem\n",
    "def histogram( items ):\n",
    "    for n in items:\n",
    "        output = ''\n",
    "        times = n\n",
    "        while( times > 0 ):\n",
    "          output += '*'\n",
    "          times = times - 1\n",
    "        print(output)\n",
    "\n",
    "histogram([1, 2, 3, 4])\n"
   ]
  },
  {
   "cell_type": "code",
   "execution_count": 24,
   "id": "70bf2e97",
   "metadata": {},
   "outputs": [
    {
     "data": {
      "text/plain": [
       "'4567'"
      ]
     },
     "execution_count": 24,
     "metadata": {},
     "output_type": "execute_result"
    }
   ],
   "source": [
    "# 27. Write a Python program to concatenate all elements in a list into a string and return it.\n",
    "def concen(list_con):\n",
    "    result = ''\n",
    "    for inr in list_con:\n",
    "        result+= str(inr)\n",
    "    return result\n",
    "    \n",
    "concen([4,5,6,7])\n"
   ]
  },
  {
   "cell_type": "code",
   "execution_count": 37,
   "id": "6a405760",
   "metadata": {},
   "outputs": [
    {
     "name": "stdout",
     "output_type": "stream",
     "text": [
      "20\n",
      "22\n",
      "24\n",
      "26\n",
      "28\n"
     ]
    }
   ],
   "source": [
    "#28. Write a Python program to print all even numbers from a given numbers list in the same order \n",
    "#and stop the printing if any numbers that come after 237 in the sequence. \n",
    "def print_even(even_list):\n",
    "    for i in even_list:\n",
    "        if i==237:\n",
    "            print(i)\n",
    "            break;\n",
    "        elif i%2==0:\n",
    "            print(i)\n",
    "\n",
    "print_even([    \n",
    "20,22,24,23,25,26,28\n",
    "    ])"
   ]
  },
  {
   "cell_type": "code",
   "execution_count": 39,
   "id": "e86e5619",
   "metadata": {},
   "outputs": [
    {
     "name": "stdout",
     "output_type": "stream",
     "text": [
      "{'RED', 'Pink'}\n"
     ]
    }
   ],
   "source": [
    "#29 Write a Python program to print out a set containing all the colors from color_list_1 which are not present in color_list_2.\n",
    "\n",
    "set1 = {'white', 'black','Pink', 'RED'}\n",
    "set2 = {'black', 'blue', 'orange', 'white'}\n",
    "print(set1 -set2)"
   ]
  },
  {
   "cell_type": "code",
   "execution_count": 49,
   "id": "6138f5c3",
   "metadata": {},
   "outputs": [
    {
     "name": "stdout",
     "output_type": "stream",
     "text": [
      "140.625\n"
     ]
    }
   ],
   "source": [
    "#30 Write a Python program that will accept the base and height of a triangle and compute the area. \n",
    "\n",
    "def area_tr(base, height):\n",
    "    area = 0.5* base *height**2\n",
    "    return area\n",
    "print(area_tr(5, 7.5))"
   ]
  },
  {
   "cell_type": "code",
   "execution_count": 6,
   "id": "b20bf001",
   "metadata": {},
   "outputs": [
    {
     "data": {
      "text/plain": [
       "4"
      ]
     },
     "execution_count": 6,
     "metadata": {},
     "output_type": "execute_result"
    }
   ],
   "source": [
    "#31 Write a Python program to compute the greatest common divisor (GCD) of two positive integers\n",
    "def gcd(x, y):\n",
    "#    gcd = 1   \n",
    "#    if x % y == 0:\n",
    "#        return y   \n",
    "   for k in range(int(y / 2), 0, -1):\n",
    "       if x % k == 0 and y % k == 0:\n",
    "           gcd = k\n",
    "           break \n",
    "   return gcd\n",
    "\n",
    "gcd(4, 8)"
   ]
  },
  {
   "cell_type": "code",
   "execution_count": 4,
   "id": "1fc47616",
   "metadata": {},
   "outputs": [
    {
     "name": "stdout",
     "output_type": "stream",
     "text": [
      "501000\n"
     ]
    }
   ],
   "source": [
    "#32 Write a Python program to get the least common multiple (LCM) of two positive integers. \n",
    "def lcm_1(val1, val2):\n",
    "    if val1<val2:\n",
    "        num = val2\n",
    "    else:\n",
    "        num = val1\n",
    "    while(True):\n",
    "        if ((val1%num ==0) and (val2%num==0)):\n",
    "            lcm_1 = num\n",
    "            break\n",
    "            \n",
    "        num+=1\n",
    "    return lcm_1\n",
    "print(lcm(1000,2004))      "
   ]
  },
  {
   "cell_type": "code",
   "execution_count": 13,
   "id": "4ed92c19",
   "metadata": {},
   "outputs": [
    {
     "data": {
      "text/plain": [
       "0"
      ]
     },
     "execution_count": 13,
     "metadata": {},
     "output_type": "execute_result"
    }
   ],
   "source": [
    "# 33. Write a Python program to sum of three given integers. However, if two values are equal sum will be zero.\n",
    "def sum_three(a,b,c):\n",
    "    if a ==b or a==c or b==c:\n",
    "        \n",
    "        d = a+b+c\n",
    "        d =0\n",
    "    \n",
    "        return d\n",
    "    return a+b+c\n",
    "sum_three(2.0,200,200)"
   ]
  },
  {
   "cell_type": "code",
   "execution_count": 23,
   "id": "3649d9c3",
   "metadata": {},
   "outputs": [
    {
     "data": {
      "text/plain": [
       "20"
      ]
     },
     "execution_count": 23,
     "metadata": {},
     "output_type": "execute_result"
    }
   ],
   "source": [
    "# 34. Write a Python program to sum of two given integers. However, if the sum is between 15 to 20 it will return 20.\n",
    "def sum_two(x,y):\n",
    "    if x+y in range(15,20):\n",
    "        sum =20\n",
    "    else:\n",
    "        sum = x+y\n",
    "    return sum\n",
    "sum_two(8,11)"
   ]
  },
  {
   "cell_type": "code",
   "execution_count": 32,
   "id": "03d6b069",
   "metadata": {},
   "outputs": [
    {
     "data": {
      "text/plain": [
       "True"
      ]
     },
     "execution_count": 32,
     "metadata": {},
     "output_type": "execute_result"
    }
   ],
   "source": [
    "#35. Write a Python program that will return true if the two given integer values are equal or their sum or difference is 5.\n",
    "def sum_integee(m,n):\n",
    "    sum = m+n\n",
    "    difference = m-n\n",
    "    if sum ==5 or difference ==5 or m==n:\n",
    "        return True\n",
    "    else:\n",
    "        return False\n",
    "    \n",
    "sum_integee(1,4)"
   ]
  },
  {
   "cell_type": "code",
   "execution_count": 37,
   "id": "8dbf64e0",
   "metadata": {},
   "outputs": [
    {
     "name": "stdout",
     "output_type": "stream",
     "text": [
      "11\n",
      "objects must be integers\n",
      "objects must be integers\n"
     ]
    }
   ],
   "source": [
    "#36. Write a Python program to add two objects if both objects are an integer type\n",
    "def add_numbers(a, b):\n",
    "    if not (isinstance(a, int) and (isinstance(b, int))):\n",
    "        return 'objects must be integers'\n",
    "    return a+b\n",
    "print(add_numbers(5,6))\n",
    "print(add_numbers('num',6))\n",
    "print(add_numbers('num','string'))"
   ]
  },
  {
   "cell_type": "code",
   "execution_count": 40,
   "id": "4f4a64d9",
   "metadata": {},
   "outputs": [
    {
     "name": "stdout",
     "output_type": "stream",
     "text": [
      "Name: Hemanth\n",
      "Age: 26\n",
      "Address: Roggenkamp 18, Bielefeld, 33605, Germany\n"
     ]
    }
   ],
   "source": [
    "#37 Write a Python program to display your details like name, age, address in three different lines\n",
    "def personal_details():\n",
    "    name, age = \"Hemanth\", 26\n",
    "    address = \"Roggenkamp 18, Bielefeld, 33605, Germany\"\n",
    "    print(\"Name: {}\\nAge: {}\\nAddress: {}\".format(name, age, address))\n",
    "\n",
    "personal_details()"
   ]
  },
  {
   "cell_type": "code",
   "execution_count": 42,
   "id": "8f136f2d",
   "metadata": {},
   "outputs": [
    {
     "name": "stdout",
     "output_type": "stream",
     "text": [
      "100\n",
      "2500\n"
     ]
    }
   ],
   "source": [
    "# 38  Write a Python program to solve (x + y) * (x + y).\n",
    "def prob(x,y):\n",
    "    calc = (x+y)*(x+y)\n",
    "    return calc\n",
    "print(prob(5,5))\n",
    "print(prob(25,25))"
   ]
  },
  {
   "cell_type": "code",
   "execution_count": 57,
   "id": "ea887f5d",
   "metadata": {},
   "outputs": [
    {
     "name": "stdout",
     "output_type": "stream",
     "text": [
      "Sai krishna reddy must have to give Hemanth 1076.32 Euros\n"
     ]
    }
   ],
   "source": [
    "#39 Write a Python program to compute the future value of a specified principal amount, rate of interest, and a number of years\n",
    "amt_given_sai = 700\n",
    "interest_percentage = 24\n",
    "years = 2\n",
    "future_value = amt*((1+(0.01*int)) ** years)\n",
    "print('Sai krishna reddy must have to give Hemanth', round(future_value,2), 'Euros')"
   ]
  },
  {
   "cell_type": "code",
   "execution_count": 61,
   "id": "d94dc840",
   "metadata": {},
   "outputs": [
    {
     "name": "stdout",
     "output_type": "stream",
     "text": [
      "17.464\n",
      "6.325\n"
     ]
    }
   ],
   "source": [
    "#40. Write a Python program to compute the distance between the points (x1, y1) and (x2, y2).\n",
    "import math as mt\n",
    "def points(x1,y1,x2,y2):\n",
    "    distance = mt.sqrt((x2-x1)**2+(y2-y1)**2)\n",
    "    return distance\n",
    "print(round(points(5,8,9,25),3))\n",
    "print(round(points(4,0,6,6),3))"
   ]
  },
  {
   "cell_type": "code",
   "execution_count": 62,
   "id": "3714b03e",
   "metadata": {},
   "outputs": [
    {
     "name": "stdout",
     "output_type": "stream",
     "text": [
      "False\n",
      "False\n"
     ]
    }
   ],
   "source": [
    "# 41. Write a Python program to check whether a file exists\n",
    "import os.path\n",
    "print(os.path.isfile('main.txt'))\n",
    "print(os.path.isfile('main.py'))"
   ]
  },
  {
   "cell_type": "code",
   "execution_count": 64,
   "id": "4ade6aaa",
   "metadata": {},
   "outputs": [
    {
     "name": "stdout",
     "output_type": "stream",
     "text": [
      "64\n"
     ]
    }
   ],
   "source": [
    "#42. Write a Python program to determine if a Python shell is executing in 32bit or 64bit mode on OS\n",
    "import struct\n",
    "print(struct.calcsize('P')*8)"
   ]
  },
  {
   "cell_type": "code",
   "execution_count": 68,
   "id": "8cadd864",
   "metadata": {},
   "outputs": [
    {
     "name": "stdout",
     "output_type": "stream",
     "text": [
      "Name of the OS nt\n",
      "Nmae of the platform Windows\n",
      "version of the operating system 10\n"
     ]
    }
   ],
   "source": [
    "# 43. Write a Python program to get OS name, platform and release information.\n",
    "import os\n",
    "import platform\n",
    "print('Name of the OS', os.name)\n",
    "print('Nmae of the platform', platform.system())\n",
    "print('version of the operating system', platform.release())"
   ]
  },
  {
   "cell_type": "code",
   "execution_count": 70,
   "id": "ecd7f52d",
   "metadata": {},
   "outputs": [
    {
     "name": "stdout",
     "output_type": "stream",
     "text": [
      "['C:\\\\ProgramData\\\\Anaconda3', 'C:\\\\ProgramData\\\\Anaconda3\\\\lib\\\\site-packages']\n"
     ]
    }
   ],
   "source": [
    "#44. Write a Python program to locate Python site-packages.\n",
    "import site;\n",
    "print(site.getsitepackages())"
   ]
  },
  {
   "cell_type": "code",
   "execution_count": 76,
   "id": "05fac9e5",
   "metadata": {},
   "outputs": [
    {
     "ename": "NameError",
     "evalue": "name '__file__' is not defined",
     "output_type": "error",
     "traceback": [
      "\u001b[1;31m---------------------------------------------------------------------------\u001b[0m",
      "\u001b[1;31mNameError\u001b[0m                                 Traceback (most recent call last)",
      "\u001b[1;32m<ipython-input-76-d2208c6683df>\u001b[0m in \u001b[0;36m<module>\u001b[1;34m\u001b[0m\n\u001b[0;32m      1\u001b[0m \u001b[1;31m#46. Write a python program to get the path and name of the file that is currently executing.\u001b[0m\u001b[1;33m\u001b[0m\u001b[1;33m\u001b[0m\u001b[1;33m\u001b[0m\u001b[0m\n\u001b[0;32m      2\u001b[0m \u001b[1;32mimport\u001b[0m \u001b[0mos\u001b[0m\u001b[1;33m\u001b[0m\u001b[1;33m\u001b[0m\u001b[0m\n\u001b[1;32m----> 3\u001b[1;33m \u001b[0mprint\u001b[0m\u001b[1;33m(\u001b[0m\u001b[1;34m\"Current File Name : \"\u001b[0m\u001b[1;33m,\u001b[0m\u001b[0mos\u001b[0m\u001b[1;33m.\u001b[0m\u001b[0mpath\u001b[0m\u001b[1;33m.\u001b[0m\u001b[0mrealpath\u001b[0m\u001b[1;33m(\u001b[0m\u001b[0m__file__\u001b[0m\u001b[1;33m)\u001b[0m\u001b[1;33m)\u001b[0m\u001b[1;33m\u001b[0m\u001b[1;33m\u001b[0m\u001b[0m\n\u001b[0m",
      "\u001b[1;31mNameError\u001b[0m: name '__file__' is not defined"
     ]
    }
   ],
   "source": [
    "#46. Write a python program to get the path and name of the file that is currently executing.\n",
    "import os\n",
    "print(\"Current File Name : \",os.path.realpath(__file__))"
   ]
  },
  {
   "cell_type": "code",
   "execution_count": 77,
   "id": "c8188761",
   "metadata": {},
   "outputs": [
    {
     "name": "stdout",
     "output_type": "stream",
     "text": [
      "vemah\n"
     ]
    }
   ],
   "source": [
    "#54 write a program to get the curent usaer name\n",
    "import getpass\n",
    "print(getpass.getuser())"
   ]
  },
  {
   "cell_type": "code",
   "execution_count": 79,
   "id": "95b794de",
   "metadata": {},
   "outputs": [
    {
     "name": "stdout",
     "output_type": "stream",
     "text": [
      "*----------------------------------*\n",
      "environ({'ALLUSERSPROFILE': 'C:\\\\ProgramData', 'ANSYS202_DIR': 'C:\\\\Program Files\\\\ANSYS Inc\\\\ANSYS Student\\\\v202\\\\ANSYS', 'ANSYS_SYSDIR': 'winx64', 'APPDATA': 'C:\\\\Users\\\\vemah\\\\AppData\\\\Roaming', 'AWP_LOCALE202': 'en-us', 'AWP_ROOT202': 'C:\\\\Program Files\\\\ANSYS Inc\\\\ANSYS Student\\\\v202', 'C:\\\\PROGRAM FILES\\\\MONGODB\\\\SERVER\\\\4.4\\\\BIN': 'C:\\\\Program Files\\\\MongoDB\\\\Server\\\\4.4\\\\bin', 'CADOE_LIBDIR202': 'C:\\\\Program Files\\\\ANSYS Inc\\\\ANSYS Student\\\\v202\\\\CommonFiles\\\\Language\\\\en-us', 'COMMONPROGRAMFILES': 'C:\\\\Program Files\\\\Common Files', 'COMMONPROGRAMFILES(X86)': 'C:\\\\Program Files (x86)\\\\Common Files', 'COMMONPROGRAMW6432': 'C:\\\\Program Files\\\\Common Files', 'COMPUTERNAME': 'DESKTOP-H0585U6', 'COMSPEC': 'C:\\\\Windows\\\\system32\\\\cmd.exe', 'CUDA_PATH': 'C:\\\\Program Files\\\\NVIDIA GPU Computing Toolkit\\\\CUDA\\\\v10.0', 'CUDA_PATH_V10_0': 'C:\\\\Program Files\\\\NVIDIA GPU Computing Toolkit\\\\CUDA\\\\v10.0', 'DRIVERDATA': 'C:\\\\Windows\\\\System32\\\\Drivers\\\\DriverData', 'FPS_BROWSER_APP_PROFILE_STRING': 'Internet Explorer', 'FPS_BROWSER_USER_PROFILE_STRING': 'Default', 'HOMEDRIVE': 'C:', 'HOMEPATH': '\\\\Users\\\\vemah', 'LOCALAPPDATA': 'C:\\\\Users\\\\vemah\\\\AppData\\\\Local', 'LOGONSERVER': '\\\\\\\\DESKTOP-H0585U6', 'LSTC_LICENSE': 'ANSYS', 'NUMBER_OF_PROCESSORS': '12', 'NVCUDASAMPLES10_0_ROOT': 'C:\\\\ProgramData\\\\NVIDIA Corporation\\\\CUDA Samples\\\\v10.0', 'NVCUDASAMPLES_ROOT': 'C:\\\\ProgramData\\\\NVIDIA Corporation\\\\CUDA Samples\\\\v10.0', 'NVTOOLSEXT_PATH': 'C:\\\\Program Files\\\\NVIDIA Corporation\\\\NvToolsExt\\\\', 'ONEDRIVE': 'C:\\\\Users\\\\vemah\\\\OneDrive', 'ONEDRIVECONSUMER': 'C:\\\\Users\\\\vemah\\\\OneDrive', 'OS': 'Windows_NT', 'PATH': 'C:\\\\ProgramData\\\\Anaconda3;C:\\\\ProgramData\\\\Anaconda3\\\\Library\\\\mingw-w64\\\\bin;C:\\\\ProgramData\\\\Anaconda3\\\\Library\\\\usr\\\\bin;C:\\\\ProgramData\\\\Anaconda3\\\\Library\\\\bin;C:\\\\ProgramData\\\\Anaconda3\\\\Scripts;C:\\\\Program Files\\\\NVIDIA GPU Computing Toolkit\\\\CUDA\\\\v10.0\\\\bin;C:\\\\Program Files\\\\NVIDIA GPU Computing Toolkit\\\\CUDA\\\\v10.0\\\\libnvvp;C:\\\\Windows\\\\system32;C:\\\\Windows;C:\\\\Windows\\\\System32\\\\Wbem;C:\\\\Windows\\\\System32\\\\WindowsPowerShell\\\\v1.0\\\\;C:\\\\Windows\\\\System32\\\\OpenSSH\\\\;C:\\\\Program Files (x86)\\\\NVIDIA Corporation\\\\PhysX\\\\Common;C:\\\\Program Files\\\\NVIDIA Corporation\\\\NVIDIA NvDLISR;C:\\\\Program Files\\\\MATLAB\\\\R2019b\\\\bin;C:\\\\Users\\\\vemah\\\\anaconda3\\\\;C:\\\\Users\\\\vemah\\\\anaconda3\\\\Scripts\\\\;C:\\\\cuda\\\\bin;C:\\\\cuda\\\\include;C:\\\\cuda\\\\lib\\\\x64;C:\\\\Program Files\\\\CodeBlocks\\\\MinGW\\\\bin;C:\\\\MinGW\\\\bin;C:\\\\Program Files\\\\Git\\\\cmd;C:\\\\Program Files\\\\dotnet\\\\;C:\\\\Program Files\\\\MySQL\\\\MySQL Shell 8.0\\\\bin\\\\;C:\\\\Users\\\\vemah\\\\AppData\\\\Local\\\\Microsoft\\\\WindowsApps;C:\\\\Program Files\\\\JetBrains\\\\PyCharm Community Edition 2021.1\\\\bin;;C:\\\\Users\\\\vemah\\\\AppData\\\\Local\\\\GitHubDesktop\\\\bin;C:\\\\Users\\\\vemah\\\\.dotnet\\\\tools', 'PATHEXT': '.COM;.EXE;.BAT;.CMD;.VBS;.VBE;.JS;.JSE;.WSF;.WSH;.MSC', 'PROCESSOR_ARCHITECTURE': 'AMD64', 'PROCESSOR_IDENTIFIER': 'Intel64 Family 6 Model 165 Stepping 2, GenuineIntel', 'PROCESSOR_LEVEL': '6', 'PROCESSOR_REVISION': 'a502', 'PROGRAMDATA': 'C:\\\\ProgramData', 'PROGRAMFILES': 'C:\\\\Program Files', 'PROGRAMFILES(X86)': 'C:\\\\Program Files (x86)', 'PROGRAMW6432': 'C:\\\\Program Files', 'PSMODULEPATH': 'C:\\\\Program Files\\\\WindowsPowerShell\\\\Modules;C:\\\\Windows\\\\system32\\\\WindowsPowerShell\\\\v1.0\\\\Modules', 'PUBLIC': 'C:\\\\Users\\\\Public', 'PYCHARM COMMUNITY EDITION': 'C:\\\\Program Files\\\\JetBrains\\\\PyCharm Community Edition 2021.1\\\\bin;', 'P_SCHEMA': 'C:\\\\Program Files\\\\ANSYS Inc\\\\ANSYS Student\\\\v202\\\\AISOL\\\\CADIntegration\\\\Parasolid\\\\PSchema', 'SESSIONNAME': 'Console', 'SYSTEMDRIVE': 'C:', 'SYSTEMROOT': 'C:\\\\Windows', 'TEMP': 'C:\\\\Users\\\\vemah\\\\AppData\\\\Local\\\\Temp', 'TMP': 'C:\\\\Users\\\\vemah\\\\AppData\\\\Local\\\\Temp', 'USERDOMAIN': 'DESKTOP-H0585U6', 'USERDOMAIN_ROAMINGPROFILE': 'DESKTOP-H0585U6', 'USERNAME': 'vemah', 'USERPROFILE': 'C:\\\\Users\\\\vemah', 'WINDIR': 'C:\\\\Windows', 'ZES_ENABLE_SYSMAN': '1', 'CONDA_PREFIX': 'C:\\\\ProgramData\\\\Anaconda3', 'JPY_INTERRUPT_EVENT': '2196', 'IPY_INTERRUPT_EVENT': '2196', 'JPY_PARENT_PID': '2236', 'TERM': 'xterm-color', 'CLICOLOR': '1', 'PAGER': 'cat', 'GIT_PAGER': 'cat', 'MPLBACKEND': 'module://ipykernel.pylab.backend_inline'})\n",
      "*----------------------------------*\n"
     ]
    },
    {
     "ename": "KeyError",
     "evalue": "'HOME'",
     "output_type": "error",
     "traceback": [
      "\u001b[1;31m---------------------------------------------------------------------------\u001b[0m",
      "\u001b[1;31mKeyError\u001b[0m                                  Traceback (most recent call last)",
      "\u001b[1;32m<ipython-input-79-02c90ebbff4d>\u001b[0m in \u001b[0;36m<module>\u001b[1;34m\u001b[0m\n\u001b[0;32m      6\u001b[0m \u001b[0mprint\u001b[0m\u001b[1;33m(\u001b[0m\u001b[1;34m'*----------------------------------*'\u001b[0m\u001b[1;33m)\u001b[0m\u001b[1;33m\u001b[0m\u001b[1;33m\u001b[0m\u001b[0m\n\u001b[0;32m      7\u001b[0m \u001b[1;31m# Access a particular environment variable\u001b[0m\u001b[1;33m\u001b[0m\u001b[1;33m\u001b[0m\u001b[1;33m\u001b[0m\u001b[0m\n\u001b[1;32m----> 8\u001b[1;33m \u001b[0mprint\u001b[0m\u001b[1;33m(\u001b[0m\u001b[0mos\u001b[0m\u001b[1;33m.\u001b[0m\u001b[0menviron\u001b[0m\u001b[1;33m[\u001b[0m\u001b[1;34m'HOME'\u001b[0m\u001b[1;33m]\u001b[0m\u001b[1;33m)\u001b[0m\u001b[1;33m\u001b[0m\u001b[1;33m\u001b[0m\u001b[0m\n\u001b[0m\u001b[0;32m      9\u001b[0m \u001b[0mprint\u001b[0m\u001b[1;33m(\u001b[0m\u001b[1;34m'*----------------------------------*'\u001b[0m\u001b[1;33m)\u001b[0m\u001b[1;33m\u001b[0m\u001b[1;33m\u001b[0m\u001b[0m\n\u001b[0;32m     10\u001b[0m \u001b[0mprint\u001b[0m\u001b[1;33m(\u001b[0m\u001b[0mos\u001b[0m\u001b[1;33m.\u001b[0m\u001b[0menviron\u001b[0m\u001b[1;33m[\u001b[0m\u001b[1;34m'PATH'\u001b[0m\u001b[1;33m]\u001b[0m\u001b[1;33m)\u001b[0m\u001b[1;33m\u001b[0m\u001b[1;33m\u001b[0m\u001b[0m\n",
      "\u001b[1;32mC:\\ProgramData\\Anaconda3\\lib\\os.py\u001b[0m in \u001b[0;36m__getitem__\u001b[1;34m(self, key)\u001b[0m\n\u001b[0;32m    673\u001b[0m         \u001b[1;32mexcept\u001b[0m \u001b[0mKeyError\u001b[0m\u001b[1;33m:\u001b[0m\u001b[1;33m\u001b[0m\u001b[1;33m\u001b[0m\u001b[0m\n\u001b[0;32m    674\u001b[0m             \u001b[1;31m# raise KeyError with the original key value\u001b[0m\u001b[1;33m\u001b[0m\u001b[1;33m\u001b[0m\u001b[1;33m\u001b[0m\u001b[0m\n\u001b[1;32m--> 675\u001b[1;33m             \u001b[1;32mraise\u001b[0m \u001b[0mKeyError\u001b[0m\u001b[1;33m(\u001b[0m\u001b[0mkey\u001b[0m\u001b[1;33m)\u001b[0m \u001b[1;32mfrom\u001b[0m \u001b[1;32mNone\u001b[0m\u001b[1;33m\u001b[0m\u001b[1;33m\u001b[0m\u001b[0m\n\u001b[0m\u001b[0;32m    676\u001b[0m         \u001b[1;32mreturn\u001b[0m \u001b[0mself\u001b[0m\u001b[1;33m.\u001b[0m\u001b[0mdecodevalue\u001b[0m\u001b[1;33m(\u001b[0m\u001b[0mvalue\u001b[0m\u001b[1;33m)\u001b[0m\u001b[1;33m\u001b[0m\u001b[1;33m\u001b[0m\u001b[0m\n\u001b[0;32m    677\u001b[0m \u001b[1;33m\u001b[0m\u001b[0m\n",
      "\u001b[1;31mKeyError\u001b[0m: 'HOME'"
     ]
    }
   ],
   "source": [
    "# 53. Write a python program to access environment variables.\n",
    "import os\n",
    "# Access all environment variables \n",
    "print('*----------------------------------*')\n",
    "print(os.environ)\n",
    "print('*----------------------------------*')\n",
    "# Access a particular environment variable \n",
    "print(os.environ['HOME'])\n",
    "print('*----------------------------------*')\n",
    "print(os.environ['PATH'])\n",
    "print('*----------------------------------*')"
   ]
  },
  {
   "cell_type": "code",
   "execution_count": 81,
   "id": "98de3496",
   "metadata": {},
   "outputs": [
    {
     "name": "stdout",
     "output_type": "stream",
     "text": [
      "192.168.0.23\n"
     ]
    }
   ],
   "source": [
    "#55. Write a Python to find local IP addresses using Python's stdlib. \n",
    "import socket\n",
    "print([l for l in ([ip for ip in socket.gethostbyname_ex(socket.gethostname())[2] \n",
    "if not ip.startswith(\"127.\")][:1], [[(s.connect(('8.8.8.8', 53)), \n",
    "s.getsockname()[0], s.close()) for s in [socket.socket(socket.AF_INET, \n",
    "socket.SOCK_DGRAM)]][0][1]]) if l][0][0])"
   ]
  },
  {
   "cell_type": "code",
   "execution_count": 86,
   "id": "128c70dd",
   "metadata": {},
   "outputs": [
    {
     "ename": "ModuleNotFoundError",
     "evalue": "No module named 'fcntl'",
     "output_type": "error",
     "traceback": [
      "\u001b[1;31m---------------------------------------------------------------------------\u001b[0m",
      "\u001b[1;31mModuleNotFoundError\u001b[0m                       Traceback (most recent call last)",
      "\u001b[1;32m<ipython-input-86-978a79380a48>\u001b[0m in \u001b[0;36m<module>\u001b[1;34m\u001b[0m\n\u001b[0;32m      1\u001b[0m \u001b[1;31m#56. Write a Python program to get height and width of the console window\u001b[0m\u001b[1;33m\u001b[0m\u001b[1;33m\u001b[0m\u001b[1;33m\u001b[0m\u001b[0m\n\u001b[1;32m----> 2\u001b[1;33m \u001b[1;32mimport\u001b[0m \u001b[0mfcntl\u001b[0m\u001b[1;33m,\u001b[0m \u001b[0mtermios\u001b[0m\u001b[1;33m,\u001b[0m \u001b[0mstruct\u001b[0m\u001b[1;33m\u001b[0m\u001b[1;33m\u001b[0m\u001b[0m\n\u001b[0m\u001b[0;32m      3\u001b[0m \u001b[1;32mdef\u001b[0m \u001b[0mterminal_size\u001b[0m\u001b[1;33m(\u001b[0m\u001b[1;33m)\u001b[0m\u001b[1;33m:\u001b[0m\u001b[1;33m\u001b[0m\u001b[1;33m\u001b[0m\u001b[0m\n\u001b[0;32m      4\u001b[0m \u001b[1;33m\u001b[0m\u001b[0m\n\u001b[0;32m      5\u001b[0m     th, tw, hp, wp = struct.unpack('HHHH',\n",
      "\u001b[1;31mModuleNotFoundError\u001b[0m: No module named 'fcntl'"
     ]
    }
   ],
   "source": [
    "#56. Write a Python program to get height and width of the console window\n",
    "import fcntl, termios, struct\n",
    "def terminal_size():\n",
    "    \n",
    "    th, tw, hp, wp = struct.unpack('HHHH',\n",
    "        fcntl.ioctl(0, termios.TIOCGWINSZ,\n",
    "        struct.pack('HHHH', 0, 0, 0, 0)))\n",
    "    return tw, th\n",
    "\n",
    "print('Number of columns and Rows: ',terminal_size())"
   ]
  },
  {
   "cell_type": "code",
   "execution_count": 91,
   "id": "62671a91",
   "metadata": {},
   "outputs": [
    {
     "name": "stdout",
     "output_type": "stream",
     "text": [
      "\n",
      "Time to sum of 1 to  50000000  and required time to calculate is : (1250000025000000, 3.667182445526123)\n"
     ]
    }
   ],
   "source": [
    "# 57. Write a Python program to get execution time for a Python method\n",
    "import time\n",
    "def sum_of_n_numbers(n):\n",
    "    start_time = time.time()\n",
    "    s = 0\n",
    "    for i in range(1,n+1):\n",
    "        s = s + i\n",
    "    end_time = time.time()\n",
    "    return s,end_time-start_time\n",
    "\n",
    "n = 50000000\n",
    "print(\"\\nTime to sum of 1 to \",n,\" and required time to calculate is :\",sum_of_n_numbers(n))\n"
   ]
  },
  {
   "cell_type": "code",
   "execution_count": 97,
   "id": "40a6f0cd",
   "metadata": {},
   "outputs": [
    {
     "name": "stdout",
     "output_type": "stream",
     "text": [
      "36\n",
      "3240\n"
     ]
    }
   ],
   "source": [
    "# 58. Write a Python program to sum of the first n positive integers\n",
    "\n",
    "def give_number(n):\n",
    "    sum = 0\n",
    "    for i in range (1, n+1):\n",
    "        sum = sum +i\n",
    "        \n",
    "    return sum\n",
    "print(give_number(8))\n",
    "print(give_number(80))"
   ]
  },
  {
   "cell_type": "code",
   "execution_count": 98,
   "id": "627e0cee",
   "metadata": {},
   "outputs": [
    {
     "ename": "FileNotFoundError",
     "evalue": "[WinError 2] The system cannot find the file specified: 'test.txt'",
     "output_type": "error",
     "traceback": [
      "\u001b[1;31m---------------------------------------------------------------------------\u001b[0m",
      "\u001b[1;31mFileNotFoundError\u001b[0m                         Traceback (most recent call last)",
      "\u001b[1;32m<ipython-input-98-425837321292>\u001b[0m in \u001b[0;36m<module>\u001b[1;34m\u001b[0m\n\u001b[0;32m      1\u001b[0m \u001b[1;32mimport\u001b[0m \u001b[0mos\u001b[0m\u001b[1;33m.\u001b[0m\u001b[0mpath\u001b[0m\u001b[1;33m,\u001b[0m \u001b[0mtime\u001b[0m\u001b[1;33m\u001b[0m\u001b[1;33m\u001b[0m\u001b[0m\n\u001b[1;32m----> 2\u001b[1;33m \u001b[0mprint\u001b[0m\u001b[1;33m(\u001b[0m\u001b[1;34m\"Last modified: %s\"\u001b[0m \u001b[1;33m%\u001b[0m \u001b[0mtime\u001b[0m\u001b[1;33m.\u001b[0m\u001b[0mctime\u001b[0m\u001b[1;33m(\u001b[0m\u001b[0mos\u001b[0m\u001b[1;33m.\u001b[0m\u001b[0mpath\u001b[0m\u001b[1;33m.\u001b[0m\u001b[0mgetmtime\u001b[0m\u001b[1;33m(\u001b[0m\u001b[1;34m\"test.txt\"\u001b[0m\u001b[1;33m)\u001b[0m\u001b[1;33m)\u001b[0m\u001b[1;33m)\u001b[0m\u001b[1;33m\u001b[0m\u001b[1;33m\u001b[0m\u001b[0m\n\u001b[0m\u001b[0;32m      3\u001b[0m \u001b[0mprint\u001b[0m\u001b[1;33m(\u001b[0m\u001b[1;34m\"Created: %s\"\u001b[0m \u001b[1;33m%\u001b[0m \u001b[0mtime\u001b[0m\u001b[1;33m.\u001b[0m\u001b[0mctime\u001b[0m\u001b[1;33m(\u001b[0m\u001b[0mos\u001b[0m\u001b[1;33m.\u001b[0m\u001b[0mpath\u001b[0m\u001b[1;33m.\u001b[0m\u001b[0mgetctime\u001b[0m\u001b[1;33m(\u001b[0m\u001b[1;34m\"test.txt\"\u001b[0m\u001b[1;33m)\u001b[0m\u001b[1;33m)\u001b[0m\u001b[1;33m)\u001b[0m\u001b[1;33m\u001b[0m\u001b[1;33m\u001b[0m\u001b[0m\n",
      "\u001b[1;32mC:\\ProgramData\\Anaconda3\\lib\\genericpath.py\u001b[0m in \u001b[0;36mgetmtime\u001b[1;34m(filename)\u001b[0m\n\u001b[0;32m     53\u001b[0m \u001b[1;32mdef\u001b[0m \u001b[0mgetmtime\u001b[0m\u001b[1;33m(\u001b[0m\u001b[0mfilename\u001b[0m\u001b[1;33m)\u001b[0m\u001b[1;33m:\u001b[0m\u001b[1;33m\u001b[0m\u001b[1;33m\u001b[0m\u001b[0m\n\u001b[0;32m     54\u001b[0m     \u001b[1;34m\"\"\"Return the last modification time of a file, reported by os.stat().\"\"\"\u001b[0m\u001b[1;33m\u001b[0m\u001b[1;33m\u001b[0m\u001b[0m\n\u001b[1;32m---> 55\u001b[1;33m     \u001b[1;32mreturn\u001b[0m \u001b[0mos\u001b[0m\u001b[1;33m.\u001b[0m\u001b[0mstat\u001b[0m\u001b[1;33m(\u001b[0m\u001b[0mfilename\u001b[0m\u001b[1;33m)\u001b[0m\u001b[1;33m.\u001b[0m\u001b[0mst_mtime\u001b[0m\u001b[1;33m\u001b[0m\u001b[1;33m\u001b[0m\u001b[0m\n\u001b[0m\u001b[0;32m     56\u001b[0m \u001b[1;33m\u001b[0m\u001b[0m\n\u001b[0;32m     57\u001b[0m \u001b[1;33m\u001b[0m\u001b[0m\n",
      "\u001b[1;31mFileNotFoundError\u001b[0m: [WinError 2] The system cannot find the file specified: 'test.txt'"
     ]
    }
   ],
   "source": []
  },
  {
   "cell_type": "code",
   "execution_count": 103,
   "id": "407fcef4",
   "metadata": {},
   "outputs": [
    {
     "name": "stdout",
     "output_type": "stream",
     "text": [
      "Input time in seconds: 86401\n",
      "d:h:m:s-> 1:0:0:1\n"
     ]
    }
   ],
   "source": [
    "# 65. Write a Python program to convert seconds to day, hour, minutes and seconds. \n",
    "time = float(input(\"Input time in seconds: \"))\n",
    "day = time // (24 * 3600)\n",
    "time = time % (24 * 3600)\n",
    "hour = time // 3600\n",
    "time %= 3600\n",
    "minutes = time // 60\n",
    "time %= 60\n",
    "seconds = time\n",
    "print(\"d:h:m:s-> %d:%d:%d:%d\" % (day, hour, minutes, seconds))\n"
   ]
  },
  {
   "cell_type": "code",
   "execution_count": 108,
   "id": "b160f4bf",
   "metadata": {},
   "outputs": [
    {
     "name": "stdout",
     "output_type": "stream",
     "text": [
      "Input a four digit numbers: 5458\n"
     ]
    },
    {
     "ename": "TypeError",
     "evalue": "'int' object is not callable",
     "output_type": "error",
     "traceback": [
      "\u001b[1;31m---------------------------------------------------------------------------\u001b[0m",
      "\u001b[1;31mTypeError\u001b[0m                                 Traceback (most recent call last)",
      "\u001b[1;32m<ipython-input-108-e7716b130c5d>\u001b[0m in \u001b[0;36m<module>\u001b[1;34m\u001b[0m\n\u001b[0;32m      1\u001b[0m \u001b[1;31m# 68. Write a Python program to calculate sum of digits of a number.\u001b[0m\u001b[1;33m\u001b[0m\u001b[1;33m\u001b[0m\u001b[1;33m\u001b[0m\u001b[0m\n\u001b[1;32m----> 2\u001b[1;33m \u001b[0mnum\u001b[0m \u001b[1;33m=\u001b[0m \u001b[0mint\u001b[0m\u001b[1;33m(\u001b[0m\u001b[0minput\u001b[0m\u001b[1;33m(\u001b[0m\u001b[1;34m\"Input a four digit numbers: \"\u001b[0m\u001b[1;33m)\u001b[0m\u001b[1;33m)\u001b[0m\u001b[1;33m\u001b[0m\u001b[1;33m\u001b[0m\u001b[0m\n\u001b[0m\u001b[0;32m      3\u001b[0m \u001b[0mx\u001b[0m  \u001b[1;33m=\u001b[0m \u001b[0mnum\u001b[0m \u001b[1;33m//\u001b[0m\u001b[1;36m1000\u001b[0m\u001b[1;33m\u001b[0m\u001b[1;33m\u001b[0m\u001b[0m\n\u001b[0;32m      4\u001b[0m \u001b[0mx1\u001b[0m \u001b[1;33m=\u001b[0m \u001b[1;33m(\u001b[0m\u001b[0mnum\u001b[0m \u001b[1;33m-\u001b[0m \u001b[0mx\u001b[0m\u001b[1;33m*\u001b[0m\u001b[1;36m1000\u001b[0m\u001b[1;33m)\u001b[0m\u001b[1;33m//\u001b[0m\u001b[1;36m100\u001b[0m\u001b[1;33m\u001b[0m\u001b[1;33m\u001b[0m\u001b[0m\n\u001b[0;32m      5\u001b[0m \u001b[0mx2\u001b[0m \u001b[1;33m=\u001b[0m \u001b[1;33m(\u001b[0m\u001b[0mnum\u001b[0m \u001b[1;33m-\u001b[0m \u001b[0mx\u001b[0m\u001b[1;33m*\u001b[0m\u001b[1;36m1000\u001b[0m \u001b[1;33m-\u001b[0m \u001b[0mx1\u001b[0m\u001b[1;33m*\u001b[0m\u001b[1;36m100\u001b[0m\u001b[1;33m)\u001b[0m\u001b[1;33m//\u001b[0m\u001b[1;36m10\u001b[0m\u001b[1;33m\u001b[0m\u001b[1;33m\u001b[0m\u001b[0m\n",
      "\u001b[1;31mTypeError\u001b[0m: 'int' object is not callable"
     ]
    }
   ],
   "source": [
    "# 68. Write a Python program to calculate sum of digits of a number.\n",
    "num = int(input(\"Input a four digit numbers: \"))\n",
    "x  = num //1000\n",
    "x1 = (num - x*1000)//100\n",
    "x2 = (num - x*1000 - x1*100)//10\n",
    "x3 = num - x*1000 - x1*100 - x2*10\n",
    "print(\"The sum of digits in the number is\", x+x1+x2+x3)\n"
   ]
  },
  {
   "cell_type": "code",
   "execution_count": null,
   "id": "93a72125",
   "metadata": {},
   "outputs": [],
   "source": []
  }
 ],
 "metadata": {
  "kernelspec": {
   "display_name": "Python 3",
   "language": "python",
   "name": "python3"
  },
  "language_info": {
   "codemirror_mode": {
    "name": "ipython",
    "version": 3
   },
   "file_extension": ".py",
   "mimetype": "text/x-python",
   "name": "python",
   "nbconvert_exporter": "python",
   "pygments_lexer": "ipython3",
   "version": "3.8.8"
  }
 },
 "nbformat": 4,
 "nbformat_minor": 5
}
